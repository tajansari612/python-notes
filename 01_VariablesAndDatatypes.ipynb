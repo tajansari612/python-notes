{
 "cells": [
  {
   "cell_type": "code",
   "execution_count": 1,
   "id": "083e179a",
   "metadata": {
    "scrolled": false
   },
   "outputs": [
    {
     "name": "stdout",
     "output_type": "stream",
     "text": [
      "Hello!\n"
     ]
    }
   ],
   "source": [
    "print(\"Hello!\")"
   ]
  },
  {
   "cell_type": "markdown",
   "id": "ce41f060",
   "metadata": {},
   "source": [
    "# Variables"
   ]
  },
  {
   "cell_type": "code",
   "execution_count": 11,
   "id": "724d0246",
   "metadata": {},
   "outputs": [
    {
     "name": "stdout",
     "output_type": "stream",
     "text": [
      "Taj\n",
      "Raj\n"
     ]
    }
   ],
   "source": [
    "var1 = \"Taj\"\n",
    "var2 = \"Raj\"\n",
    "print(var1)\n",
    "print(var2)"
   ]
  },
  {
   "cell_type": "code",
   "execution_count": 12,
   "id": "6b6e7ecf",
   "metadata": {},
   "outputs": [
    {
     "name": "stdout",
     "output_type": "stream",
     "text": [
      "Ayaj\n",
      "Raj\n",
      "<class 'str'>\n"
     ]
    }
   ],
   "source": [
    "var1 = \"Ayaj\"\n",
    "var3 = var2\n",
    "print(var1)\n",
    "print(var3)\n",
    "print(type(var3))"
   ]
  },
  {
   "cell_type": "markdown",
   "id": "b5525482",
   "metadata": {},
   "source": [
    "# Datatypes"
   ]
  },
  {
   "cell_type": "code",
   "execution_count": null,
   "id": "7b1ec0c4",
   "metadata": {},
   "outputs": [],
   "source": []
  },
  {
   "cell_type": "code",
   "execution_count": 13,
   "id": "35ed7551",
   "metadata": {},
   "outputs": [
    {
     "name": "stdout",
     "output_type": "stream",
     "text": [
      "25\n",
      "<class 'int'>\n"
     ]
    }
   ],
   "source": [
    "#01 Integer\n",
    "num1 = 12;\n",
    "num2 = 13;\n",
    "sum = num1 + num2;\n",
    "print(sum)\n",
    "print(type(sum))"
   ]
  },
  {
   "cell_type": "code",
   "execution_count": 16,
   "id": "be637e28",
   "metadata": {},
   "outputs": [
    {
     "name": "stdout",
     "output_type": "stream",
     "text": [
      "22.130000000000003\n",
      "<class 'float'>\n"
     ]
    }
   ],
   "source": [
    "#02 Float\n",
    "num3 = 12.54\n",
    "num4 = 34.67\n",
    "print(num4-num3)\n",
    "print(type(num4-num3))"
   ]
  },
  {
   "cell_type": "code",
   "execution_count": 17,
   "id": "e80ef4c8",
   "metadata": {},
   "outputs": [
    {
     "name": "stdout",
     "output_type": "stream",
     "text": [
      "True\n",
      "False\n",
      "<class 'bool'>\n"
     ]
    }
   ],
   "source": [
    "#03 Boolean\n",
    "isLoggedIn = True\n",
    "val = False\n",
    "print(isLoggedIn)\n",
    "print(val)\n",
    "print(type(val))"
   ]
  },
  {
   "cell_type": "code",
   "execution_count": 23,
   "id": "2fedd838",
   "metadata": {},
   "outputs": [
    {
     "name": "stdout",
     "output_type": "stream",
     "text": [
      "T\n",
      "TAJ\n",
      "<class 'str'>\n",
      "AJ\n"
     ]
    }
   ],
   "source": [
    "#04 Char\n",
    "ch1 = 'T'\n",
    "ch2 = 'A'\n",
    "ch3 = 'J'\n",
    "print(ch1)\n",
    "print(ch1+ch2+ch3)\n",
    "print(type(ch2))\n",
    "ch2 = ch2 + ch3;\n",
    "print(ch2)"
   ]
  },
  {
   "cell_type": "code",
   "execution_count": 24,
   "id": "36177d09",
   "metadata": {},
   "outputs": [
    {
     "name": "stdout",
     "output_type": "stream",
     "text": [
      "TajAnsari\n",
      "<class 'str'>\n"
     ]
    }
   ],
   "source": [
    "#05 String\n",
    "str1 = \"Taj\"\n",
    "str2 = \"Ansari\"\n",
    "print(str1+str2)\n",
    "print(type(str2))"
   ]
  },
  {
   "cell_type": "code",
   "execution_count": 25,
   "id": "39b3f2bb",
   "metadata": {},
   "outputs": [
    {
     "name": "stdout",
     "output_type": "stream",
     "text": [
      "(7+7j)\n",
      "<class 'complex'>\n"
     ]
    }
   ],
   "source": [
    "#06 Complex\n",
    "num1 = 3 + 4j;       # In the python j is used instead of i\n",
    "num2 = 4 + 3j;\n",
    "num3 = num1 + num2;\n",
    "print(num3);\n",
    "print(type(num3))"
   ]
  },
  {
   "cell_type": "code",
   "execution_count": null,
   "id": "a1a1b0c7",
   "metadata": {},
   "outputs": [],
   "source": []
  }
 ],
 "metadata": {
  "kernelspec": {
   "display_name": "Python 3 (ipykernel)",
   "language": "python",
   "name": "python3"
  },
  "language_info": {
   "codemirror_mode": {
    "name": "ipython",
    "version": 3
   },
   "file_extension": ".py",
   "mimetype": "text/x-python",
   "name": "python",
   "nbconvert_exporter": "python",
   "pygments_lexer": "ipython3",
   "version": "3.11.5"
  }
 },
 "nbformat": 4,
 "nbformat_minor": 5
}
