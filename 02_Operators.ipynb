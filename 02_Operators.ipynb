{
 "cells": [
  {
   "cell_type": "code",
   "execution_count": 1,
   "id": "c4b31bb1-9ad2-4ab3-a354-f50a5e541a23",
   "metadata": {},
   "outputs": [],
   "source": [
    "#01 Arithmatic Operators (+,-,*,/)\n",
    "num1 = 10;\n",
    "num2 = 20;"
   ]
  },
  {
   "cell_type": "code",
   "execution_count": 2,
   "id": "3865ec81-c152-4489-bad4-ac49307ce160",
   "metadata": {},
   "outputs": [
    {
     "name": "stdout",
     "output_type": "stream",
     "text": [
      "30\n"
     ]
    }
   ],
   "source": [
    "addition = num1 + num2;\n",
    "print(addition);"
   ]
  },
  {
   "cell_type": "code",
   "execution_count": 3,
   "id": "4747087b-c8f0-41e5-9e23-62dcb02fa701",
   "metadata": {},
   "outputs": [
    {
     "name": "stdout",
     "output_type": "stream",
     "text": [
      "10\n"
     ]
    }
   ],
   "source": [
    "substraction = num2 - num1;\n",
    "print(substraction);"
   ]
  },
  {
   "cell_type": "code",
   "execution_count": 4,
   "id": "104cc975-159c-4a8d-b66b-349654ab9d9e",
   "metadata": {},
   "outputs": [
    {
     "name": "stdout",
     "output_type": "stream",
     "text": [
      "200\n"
     ]
    }
   ],
   "source": [
    "multiplication = num1 * num2;\n",
    "print(multiplication);"
   ]
  },
  {
   "cell_type": "code",
   "execution_count": 5,
   "id": "c818c1b1-d596-4e3e-ab6c-fa156d510b0b",
   "metadata": {},
   "outputs": [
    {
     "name": "stdout",
     "output_type": "stream",
     "text": [
      "2.0\n"
     ]
    }
   ],
   "source": [
    "division = num2 / num1;\n",
    "print(division);"
   ]
  },
  {
   "cell_type": "code",
   "execution_count": 6,
   "id": "f5d15adb-fe6f-401f-b8b0-919757509493",
   "metadata": {},
   "outputs": [],
   "source": [
    "#02 Relational Operators (<,>,==,!=,<=,>=)\n",
    "num1 = 7;\n",
    "num2 = 9;"
   ]
  },
  {
   "cell_type": "code",
   "execution_count": 7,
   "id": "2fccdef6-dd4a-4504-a2d0-33775c54856b",
   "metadata": {},
   "outputs": [
    {
     "name": "stdout",
     "output_type": "stream",
     "text": [
      "True\n"
     ]
    }
   ],
   "source": [
    "lessThan = num1 < num2;\n",
    "print(lessThan)"
   ]
  },
  {
   "cell_type": "code",
   "execution_count": 8,
   "id": "0d8dd136-1a28-47fa-9700-2df6615bdbd3",
   "metadata": {},
   "outputs": [
    {
     "name": "stdout",
     "output_type": "stream",
     "text": [
      "False\n"
     ]
    }
   ],
   "source": [
    "greaterThan = num1 > num2;\n",
    "print(greaterThan)"
   ]
  },
  {
   "cell_type": "code",
   "execution_count": 9,
   "id": "f742b1ef-660c-47e8-a618-98a37c98d085",
   "metadata": {},
   "outputs": [
    {
     "name": "stdout",
     "output_type": "stream",
     "text": [
      "False\n"
     ]
    }
   ],
   "source": [
    "equalTo = num1 == num2;\n",
    "print(equalTo);"
   ]
  },
  {
   "cell_type": "code",
   "execution_count": 10,
   "id": "4c0e1002-d738-48ec-9307-0fcce5b640cc",
   "metadata": {},
   "outputs": [
    {
     "name": "stdout",
     "output_type": "stream",
     "text": [
      "True\n"
     ]
    }
   ],
   "source": [
    "notEqualTo = num1 != num2;\n",
    "print(notEqualTo);"
   ]
  },
  {
   "cell_type": "code",
   "execution_count": 11,
   "id": "e10ede70-835b-4c48-b54d-7428369ac0a8",
   "metadata": {},
   "outputs": [
    {
     "name": "stdout",
     "output_type": "stream",
     "text": [
      "True\n"
     ]
    }
   ],
   "source": [
    "lessThanEqualTo = num1 <= num2;\n",
    "print(lessThanEqualTo)"
   ]
  },
  {
   "cell_type": "code",
   "execution_count": 12,
   "id": "377727da-75ec-41d1-84c5-fdc2c0d3d36f",
   "metadata": {},
   "outputs": [
    {
     "name": "stdout",
     "output_type": "stream",
     "text": [
      "False\n"
     ]
    }
   ],
   "source": [
    "greaterThanEqualTo = num1 >= num2;\n",
    "print(greaterThanEqualTo)"
   ]
  },
  {
   "cell_type": "code",
   "execution_count": 13,
   "id": "b9aa6fe9-c000-4265-a4d3-2f5b60b22344",
   "metadata": {},
   "outputs": [],
   "source": [
    "#03 Logical Opeators (and,or,not)\n",
    "bool1 = True;\n",
    "bool2 = False;"
   ]
  },
  {
   "cell_type": "code",
   "execution_count": 14,
   "id": "afae4b0b-239a-4c6c-ba93-8d5b3782568d",
   "metadata": {},
   "outputs": [
    {
     "name": "stdout",
     "output_type": "stream",
     "text": [
      "False\n",
      "False\n"
     ]
    }
   ],
   "source": [
    "andOp = bool1 and bool2;\n",
    "print(andOp);\n",
    "andOp = bool1 & bool2;\n",
    "print(andOp);"
   ]
  },
  {
   "cell_type": "code",
   "execution_count": 15,
   "id": "dda42a1a-4fb4-4a01-ad4e-569c890b5b0f",
   "metadata": {},
   "outputs": [
    {
     "name": "stdout",
     "output_type": "stream",
     "text": [
      "True\n",
      "True\n"
     ]
    }
   ],
   "source": [
    "orOp = bool1 or bool2;\n",
    "print(orOp);\n",
    "orOp = bool1 | bool2;\n",
    "print(orOp);"
   ]
  },
  {
   "cell_type": "code",
   "execution_count": 16,
   "id": "4004e70a-cd28-4b58-8a9e-4919b748d249",
   "metadata": {},
   "outputs": [
    {
     "name": "stdout",
     "output_type": "stream",
     "text": [
      "False\n"
     ]
    }
   ],
   "source": [
    "notOp = not bool1;\n",
    "print(notOp);"
   ]
  },
  {
   "cell_type": "code",
   "execution_count": 17,
   "id": "87c5e13e-5187-42bd-8958-121ffdf7e0c5",
   "metadata": {},
   "outputs": [],
   "source": [
    "#04 Bitwise Operator (&(and),|(or),~(not),^(xor),>>(right shift),<<(left shift))\n",
    "num1 = 3;  #0011\n",
    "num2 = 2;  #0010"
   ]
  },
  {
   "cell_type": "code",
   "execution_count": 18,
   "id": "36128063-89a9-411c-a01c-16ca9cd2a8c3",
   "metadata": {},
   "outputs": [
    {
     "name": "stdout",
     "output_type": "stream",
     "text": [
      "2\n"
     ]
    }
   ],
   "source": [
    "bitAnd = num1 & num2; #both 1 then 1 otherwise zero\n",
    "print(bitAnd);"
   ]
  },
  {
   "cell_type": "code",
   "execution_count": 19,
   "id": "b5929631-f0ba-4c9f-8664-9a69acbb48bf",
   "metadata": {},
   "outputs": [
    {
     "name": "stdout",
     "output_type": "stream",
     "text": [
      "3\n"
     ]
    }
   ],
   "source": [
    "bitOr = num1 | num2; #both zero then zero otherwise one\n",
    "print(bitOr);"
   ]
  },
  {
   "cell_type": "code",
   "execution_count": 20,
   "id": "f3958b00-eb17-4150-b786-a7db8ec8fb74",
   "metadata": {},
   "outputs": [
    {
     "name": "stdout",
     "output_type": "stream",
     "text": [
      "1\n"
     ]
    }
   ],
   "source": [
    "bitXor = num1 ^ num2;  # both same then zero otherwise one\n",
    "print(bitXor);"
   ]
  },
  {
   "cell_type": "code",
   "execution_count": 21,
   "id": "86732ca1-a9fa-45ec-8875-6fb979cd3165",
   "metadata": {},
   "outputs": [
    {
     "name": "stdout",
     "output_type": "stream",
     "text": [
      "24\n",
      "8\n"
     ]
    }
   ],
   "source": [
    "leftShift = num1<<3;  # multiply by 2^3\n",
    "print(leftShift);\n",
    "leftShift = num2<<2;  # multiply by 2^2\n",
    "print(leftShift);"
   ]
  },
  {
   "cell_type": "code",
   "execution_count": 22,
   "id": "89f2e949-7cc0-4ff4-9897-a4fe3ca0d511",
   "metadata": {},
   "outputs": [
    {
     "name": "stdout",
     "output_type": "stream",
     "text": [
      "3\n",
      "2\n"
     ]
    }
   ],
   "source": [
    "num1 = 24;\n",
    "rightShift = num1>>3;  # divide by 2^3\n",
    "print(rightShift);\n",
    "num2 = 8;\n",
    "rightShift = num2>>2;  # divide by 2^2\n",
    "print(rightShift);"
   ]
  },
  {
   "cell_type": "code",
   "execution_count": null,
   "id": "cde7f69f-a42b-43bf-864f-e784a2cf971b",
   "metadata": {},
   "outputs": [],
   "source": []
  }
 ],
 "metadata": {
  "kernelspec": {
   "display_name": "Python 3 (ipykernel)",
   "language": "python",
   "name": "python3"
  },
  "language_info": {
   "codemirror_mode": {
    "name": "ipython",
    "version": 3
   },
   "file_extension": ".py",
   "mimetype": "text/x-python",
   "name": "python",
   "nbconvert_exporter": "python",
   "pygments_lexer": "ipython3",
   "version": "3.12.0"
  }
 },
 "nbformat": 4,
 "nbformat_minor": 5
}
